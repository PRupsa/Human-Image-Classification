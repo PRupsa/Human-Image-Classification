{
 "cells": [
  {
   "cell_type": "markdown",
   "metadata": {},
   "source": [
    "#                             Indian Human Image Classification Model"
   ]
  },
  {
   "cell_type": "code",
   "execution_count": 1,
   "metadata": {},
   "outputs": [
    {
     "name": "stdout",
     "output_type": "stream",
     "text": [
      "Requirement already satisfied: ipython-autotime in d:\\anaconda3\\lib\\site-packages (0.3.1)\n",
      "Requirement already satisfied: ipython in d:\\anaconda3\\lib\\site-packages (from ipython-autotime) (7.16.1)\n",
      "Requirement already satisfied: traitlets>=4.2 in d:\\anaconda3\\lib\\site-packages (from ipython->ipython-autotime) (4.3.3)\n",
      "Requirement already satisfied: jedi>=0.10 in d:\\anaconda3\\lib\\site-packages (from ipython->ipython-autotime) (0.17.1)\n",
      "Requirement already satisfied: prompt-toolkit!=3.0.0,!=3.0.1,<3.1.0,>=2.0.0 in d:\\anaconda3\\lib\\site-packages (from ipython->ipython-autotime) (3.0.5)\n",
      "Requirement already satisfied: pygments in d:\\anaconda3\\lib\\site-packages (from ipython->ipython-autotime) (2.6.1)\n",
      "Requirement already satisfied: pickleshare in d:\\anaconda3\\lib\\site-packages (from ipython->ipython-autotime) (0.7.5)\n",
      "Requirement already satisfied: decorator in d:\\anaconda3\\lib\\site-packages (from ipython->ipython-autotime) (4.4.2)\n",
      "Requirement already satisfied: setuptools>=18.5 in d:\\anaconda3\\lib\\site-packages (from ipython->ipython-autotime) (49.2.0.post20200714)\n",
      "Requirement already satisfied: backcall in d:\\anaconda3\\lib\\site-packages (from ipython->ipython-autotime) (0.2.0)\n",
      "Requirement already satisfied: colorama; sys_platform == \"win32\" in d:\\anaconda3\\lib\\site-packages (from ipython->ipython-autotime) (0.4.3)\n",
      "Requirement already satisfied: six in d:\\anaconda3\\lib\\site-packages (from traitlets>=4.2->ipython->ipython-autotime) (1.15.0)\n",
      "Requirement already satisfied: ipython-genutils in d:\\anaconda3\\lib\\site-packages (from traitlets>=4.2->ipython->ipython-autotime) (0.2.0)\n",
      "Requirement already satisfied: parso<0.8.0,>=0.7.0 in d:\\anaconda3\\lib\\site-packages (from jedi>=0.10->ipython->ipython-autotime) (0.7.0)\n",
      "Requirement already satisfied: wcwidth in d:\\anaconda3\\lib\\site-packages (from prompt-toolkit!=3.0.0,!=3.0.1,<3.1.0,>=2.0.0->ipython->ipython-autotime) (0.2.5)\n",
      "time: 0 ns (started: 2021-04-20 11:27:12 +05:30)\n"
     ]
    }
   ],
   "source": [
    "#Importing libraries\n",
    "!pip install ipython-autotime\n",
    "%load_ext autotime"
   ]
  },
  {
   "cell_type": "markdown",
   "metadata": {},
   "source": [
    "# Preprocessing"
   ]
  },
  {
   "cell_type": "code",
   "execution_count": 2,
   "metadata": {},
   "outputs": [
    {
     "name": "stdout",
     "output_type": "stream",
     "text": [
      "time: 7min 46s (started: 2021-04-20 11:27:12 +05:30)\n"
     ]
    }
   ],
   "source": [
    "import os\n",
    "import ntpath\n",
    "import matplotlib.pyplot as plt\n",
    "import numpy as np\n",
    "import pandas as pd\n",
    "from skimage.io import imread\n",
    "from skimage.transform import resize\n",
    "target=[]\n",
    "images=[]\n",
    "flat_data=[]\n",
    "DATADIR=r\"D:\\verzio\\cropped\"\n",
    "CATEGORIES=[]\n",
    "for entry in os.scandir(DATADIR):\n",
    "    if entry.is_dir():\n",
    "        CATEGORIES.append(ntpath.basename(entry.path))\n",
    "for category in CATEGORIES:\n",
    "  class_num=CATEGORIES.index(category)\n",
    "  path=os.path.join(DATADIR,category)\n",
    "  for img in os.listdir(path):\n",
    "    img_array=imread(os.path.join(path,img))\n",
    "    img_resized=resize(img_array,(150,150,3))\n",
    "    flat_data.append(img_resized.flatten())\n",
    "    images.append(img_resized)\n",
    "    target.append(class_num)\n",
    "\n",
    "flat_data=np.array(flat_data)\n",
    "images=np.array(images)\n",
    "target=np.array(target)"
   ]
  },
  {
   "cell_type": "code",
   "execution_count": 3,
   "metadata": {},
   "outputs": [
    {
     "data": {
      "text/plain": [
       "array([0.60521569, 0.55815686, 0.61305882, ..., 0.34117647, 0.30196078,\n",
       "       0.30922876])"
      ]
     },
     "execution_count": 3,
     "metadata": {},
     "output_type": "execute_result"
    },
    {
     "name": "stdout",
     "output_type": "stream",
     "text": [
      "time: 0 ns (started: 2021-04-20 11:34:59 +05:30)\n"
     ]
    }
   ],
   "source": [
    "flat_data[0]"
   ]
  },
  {
   "cell_type": "code",
   "execution_count": 4,
   "metadata": {},
   "outputs": [
    {
     "data": {
      "text/plain": [
       "518"
      ]
     },
     "execution_count": 4,
     "metadata": {},
     "output_type": "execute_result"
    },
    {
     "name": "stdout",
     "output_type": "stream",
     "text": [
      "time: 0 ns (started: 2021-04-20 11:34:59 +05:30)\n"
     ]
    }
   ],
   "source": [
    "len(target)"
   ]
  },
  {
   "cell_type": "code",
   "execution_count": 5,
   "metadata": {},
   "outputs": [
    {
     "data": {
      "text/plain": [
       "<BarContainer object of 2 artists>"
      ]
     },
     "execution_count": 5,
     "metadata": {},
     "output_type": "execute_result"
    },
    {
     "data": {
      "image/png": "[encoded data removed]",
      "text/plain": [
       "<Figure size 432x288 with 1 Axes>"
      ]
     },
     "metadata": {
      "needs_background": "light"
     },
     "output_type": "display_data"
    },
    {
     "name": "stdout",
     "output_type": "stream",
     "text": [
      "time: 110 ms (started: 2021-04-20 11:34:59 +05:30)\n"
     ]
    }
   ],
   "source": [
    "unique,count=np.unique(target,return_counts=True)\n",
    "plt.bar(CATEGORIES,count)"
   ]
  },
  {
   "cell_type": "markdown",
   "metadata": {},
   "source": [
    "# Spliting data"
   ]
  },
  {
   "cell_type": "code",
   "execution_count": 6,
   "metadata": {},
   "outputs": [
    {
     "name": "stdout",
     "output_type": "stream",
     "text": [
      "time: 266 ms (started: 2021-04-20 11:34:59 +05:30)\n"
     ]
    }
   ],
   "source": [
    "from sklearn.model_selection import train_test_split\n",
    "x_train,x_test,y_train,y_test=train_test_split(flat_data,target,test_size=0.2,random_state=0)\n",
    "x_train,x_validation,y_train,y_validation=train_test_split(x_train,y_train,test_size=0.2)"
   ]
  },
  {
   "cell_type": "code",
   "execution_count": 7,
   "metadata": {},
   "outputs": [
    {
     "data": {
      "text/plain": [
       "(331, 67500)"
      ]
     },
     "execution_count": 7,
     "metadata": {},
     "output_type": "execute_result"
    },
    {
     "name": "stdout",
     "output_type": "stream",
     "text": [
      "time: 0 ns (started: 2021-04-20 11:34:59 +05:30)\n"
     ]
    }
   ],
   "source": [
    "x_train.shape"
   ]
  },
  {
   "cell_type": "markdown",
   "metadata": {},
   "source": [
    "# Voting Ensemble Classifier"
   ]
  },
  {
   "cell_type": "code",
   "execution_count": 8,
   "metadata": {},
   "outputs": [
    {
     "name": "stdout",
     "output_type": "stream",
     "text": [
      "time: 110 ms (started: 2021-04-20 11:34:59 +05:30)\n"
     ]
    }
   ],
   "source": [
    "from sklearn import model_selection\n",
    "from sklearn.ensemble import RandomForestClassifier\n",
    "from sklearn.ensemble import VotingClassifier\n",
    "from sklearn.linear_model import LogisticRegression\n",
    "from sklearn.tree import DecisionTreeClassifier\n",
    "from sklearn.naive_bayes import GaussianNB\n",
    "from sklearn.neighbors import KNeighborsClassifier\n",
    "from sklearn.svm import SVC\n",
    "clf2=RandomForestClassifier(random_state=42)\n",
    "clf3=GaussianNB()\n",
    "clf4= DecisionTreeClassifier(random_state=42)\n",
    "clf5 = KNeighborsClassifier()\n",
    "clf6=SVC(gamma=\"scale\", random_state=42,probability=True)\n",
    "clf1=LogisticRegression(solver=\"lbfgs\", random_state=42)\n",
    "voting = VotingClassifier(\n",
    "             estimators=[('lr', clf1),\n",
    "                         ('rf', clf2),\n",
    "                        ('svc', clf6),\n",
    "                        ('knc',clf5),\n",
    "                         ('gnb',clf3),\n",
    "                         ('dtc',clf4)\n",
    "                        ], \n",
    "             voting='hard',\n",
    "             flatten_transform=True)"
   ]
  },
  {
   "cell_type": "code",
   "execution_count": 9,
   "metadata": {},
   "outputs": [
    {
     "name": "stderr",
     "output_type": "stream",
     "text": [
      "D:\\Anaconda3\\lib\\site-packages\\sklearn\\linear_model\\_logistic.py:764: ConvergenceWarning: lbfgs failed to converge (status=1):\n",
      "STOP: TOTAL NO. of ITERATIONS REACHED LIMIT.\n",
      "\n",
      "Increase the number of iterations (max_iter) or scale the data as shown in:\n",
      "    https://scikit-learn.org/stable/modules/preprocessing.html\n",
      "Please also refer to the documentation for alternative solver options:\n",
      "    https://scikit-learn.org/stable/modules/linear_model.html#logistic-regression\n",
      "  extra_warning_msg=_LOGISTIC_SOLVER_CONVERGENCE_MSG)\n"
     ]
    },
    {
     "data": {
      "text/plain": [
       "VotingClassifier(estimators=[('lr', LogisticRegression(random_state=42)),\n",
       "                             ('rf', RandomForestClassifier(random_state=42)),\n",
       "                             ('svc', SVC(probability=True, random_state=42)),\n",
       "                             ('knc', KNeighborsClassifier()),\n",
       "                             ('gnb', GaussianNB()),\n",
       "                             ('dtc', DecisionTreeClassifier(random_state=42))])"
      ]
     },
     "execution_count": 9,
     "metadata": {},
     "output_type": "execute_result"
    },
    {
     "name": "stdout",
     "output_type": "stream",
     "text": [
      "time: 1min 6s (started: 2021-04-20 11:34:59 +05:30)\n"
     ]
    }
   ],
   "source": [
    "voting.fit(x_train,y_train)"
   ]
  },
  {
   "cell_type": "code",
   "execution_count": 10,
   "metadata": {},
   "outputs": [
    {
     "name": "stdout",
     "output_type": "stream",
     "text": [
      "time: 7.62 s (started: 2021-04-20 11:36:06 +05:30)\n"
     ]
    }
   ],
   "source": [
    "y_pred=voting.predict(x_test)"
   ]
  },
  {
   "cell_type": "code",
   "execution_count": null,
   "metadata": {},
   "outputs": [],
   "source": []
  },
  {
   "cell_type": "code",
   "execution_count": 11,
   "metadata": {},
   "outputs": [
    {
     "data": {
      "text/plain": [
       "78.84615384615384"
      ]
     },
     "execution_count": 11,
     "metadata": {},
     "output_type": "execute_result"
    },
    {
     "name": "stdout",
     "output_type": "stream",
     "text": [
      "time: 0 ns (started: 2021-04-20 11:36:13 +05:30)\n"
     ]
    }
   ],
   "source": [
    "from sklearn.metrics import accuracy_score,confusion_matrix\n",
    "accuracy_score(y_pred,y_test)*100"
   ]
  },
  {
   "cell_type": "code",
   "execution_count": 12,
   "metadata": {},
   "outputs": [
    {
     "data": {
      "text/plain": [
       "array([[28, 14],\n",
       "       [ 8, 54]], dtype=int64)"
      ]
     },
     "execution_count": 12,
     "metadata": {},
     "output_type": "execute_result"
    },
    {
     "name": "stdout",
     "output_type": "stream",
     "text": [
      "time: 0 ns (started: 2021-04-20 11:36:13 +05:30)\n"
     ]
    }
   ],
   "source": [
    "confusion_matrix(y_test,y_pred)"
   ]
  },
  {
   "cell_type": "raw",
   "metadata": {},
   "source": []
  },
  {
   "cell_type": "markdown",
   "metadata": {},
   "source": [
    "# Saving the model"
   ]
  },
  {
   "cell_type": "code",
   "execution_count": 13,
   "metadata": {},
   "outputs": [
    {
     "name": "stdout",
     "output_type": "stream",
     "text": [
      "time: 2.69 s (started: 2021-04-20 11:36:13 +05:30)\n"
     ]
    }
   ],
   "source": [
    "\n",
    "import pickle\n",
    "pickle.dump(voting,open('humanface_detection.p','wb'))"
   ]
  },
  {
   "cell_type": "code",
   "execution_count": 14,
   "metadata": {},
   "outputs": [
    {
     "name": "stdout",
     "output_type": "stream",
     "text": [
      "time: 266 ms (started: 2021-04-20 11:36:16 +05:30)\n"
     ]
    }
   ],
   "source": [
    "import pickle\n",
    "model=pickle.load(open('humanface_detection.p','rb'))"
   ]
  },
  {
   "cell_type": "markdown",
   "metadata": {},
   "source": [
    "# Testing new image using URL"
   ]
  },
  {
   "cell_type": "code",
   "execution_count": 31,
   "metadata": {},
   "outputs": [
    {
     "name": "stdout",
     "output_type": "stream",
     "text": [
      "Enter you URLhttps://assets.thehansindia.com/h-upload/2021/04/02/1065748-sachin-tendulkar.png\n",
      "(600, 1000, 3)\n",
      "PREDICTION OUTPUT:INDIAN\n"
     ]
    },
    {
     "data": {
      "image/png": "[encoded data removed]",
      "text/plain": [
       "<Figure size 432x288 with 1 Axes>"
      ]
     },
     "metadata": {
      "needs_background": "light"
     },
     "output_type": "display_data"
    },
    {
     "name": "stdout",
     "output_type": "stream",
     "text": [
      "time: 3.38 s (started: 2021-04-20 12:34:07 +05:30)\n"
     ]
    }
   ],
   "source": [
    "from skimage.io import imread\n",
    "from skimage.transform import resize\n",
    "import matplotlib.pyplot as plt\n",
    "flat_data=[]\n",
    "url=input('Enter you URL')\n",
    "img=imread(url)\n",
    "img_resized=resize(img,(150,150,3))\n",
    "flat_data.append(img_resized.flatten())\n",
    "flat_data=np.array(flat_data)\n",
    "print(img.shape)\n",
    "plt.imshow(img_resized)\n",
    "y_out=model.predict(flat_data)\n",
    "y_out=CATEGORIES[y_out[0]]\n",
    "print(f'PREDICTION OUTPUT:{y_out}')"
   ]
  },
  {
   "cell_type": "code",
   "execution_count": null,
   "metadata": {},
   "outputs": [],
   "source": []
  }
 ],
 "metadata": {
  "kernelspec": {
   "display_name": "Python 3",
   "language": "python",
   "name": "python3"
  },
  "language_info": {
   "codemirror_mode": {
    "name": "ipython",
    "version": 3
   },
   "file_extension": ".py",
   "mimetype": "text/x-python",
   "name": "python",
   "nbconvert_exporter": "python",
   "pygments_lexer": "ipython3",
   "version": "3.6.10"
  }
 },
 "nbformat": 4,
 "nbformat_minor": 4
}
